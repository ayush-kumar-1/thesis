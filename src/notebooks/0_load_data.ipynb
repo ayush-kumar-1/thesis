{
 "cells": [
  {
   "cell_type": "code",
   "execution_count": 31,
   "metadata": {},
   "outputs": [],
   "source": [
    "import pandas as pd \n",
    "import numpy as np \n",
    "import matplotlib.pyplot as plt\n",
    "\n",
    "import sqlalchemy as sa\n",
    "from sqlalchemy import create_engine\n",
    "\n",
    "import json\n",
    "import glob"
   ]
  },
  {
   "cell_type": "code",
   "execution_count": 44,
   "metadata": {},
   "outputs": [],
   "source": [
    "username = None\n",
    "password = None\n",
    "\n",
    "with open(\"../connection.json\") as connection_file:\n",
    "    cf = json.load(connection_file)\n",
    "    username = cf[\"user\"]\n",
    "    password = cf[\"password\"]\n",
    "\n",
    "connection_uri = sa.engine.URL.create(\n",
    "    drivername=\"mysql+pymysql\",\n",
    "    username=username,\n",
    "    password=password,\n",
    "    host=\"localhost\",\n",
    "    database=\"foodaps\",\n",
    ")\n",
    "\n",
    "engine =  create_engine(connection_uri)\n",
    "cnx = engine.connect()"
   ]
  },
  {
   "cell_type": "code",
   "execution_count": 45,
   "metadata": {},
   "outputs": [
    {
     "data": {
      "text/plain": [
       "{'fafhnutrient': '../../data/foodaps/faps_fafhnutrient_puf.csv',\n",
       " 'meals': '../../data/foodaps/faps_meals_puf.csv',\n",
       " 'fafhitem': '../../data/foodaps/faps_fafhitem_puf.csv',\n",
       " 'fahitem': '../../data/foodaps/faps_fahitem_puf.csv',\n",
       " 'fafhevent': '../../data/foodaps/faps_fafhevent_puf.csv',\n",
       " 'household': '../../data/foodaps/faps_household_puf.csv',\n",
       " 'fahnutrients': '../../data/foodaps/faps_fahnutrients.csv',\n",
       " 'individual': '../../data/foodaps/faps_individual_puf.csv',\n",
       " 'fahevent': '../../data/foodaps/faps_fahevent_puf.csv',\n",
       " 'hhweights': '../../data/foodaps/faps_hhweights.csv',\n",
       " 'access': '../../data/foodaps/faps_access_puf.csv'}"
      ]
     },
     "execution_count": 45,
     "metadata": {},
     "output_type": "execute_result"
    }
   ],
   "source": [
    "## list all csv files\n",
    "data_files =  glob.glob(\"../../data/foodaps/*.csv\")\n",
    "file_dict = {file[file.find(\"faps_\") + 5: file.find(\".csv\")]: file \n",
    "    for file in data_files}\n",
    "\n",
    "## remove _puf if it exists from the key \n",
    "file_dict = {key.replace(\"_puf\", \"\"): value for key, value in file_dict.items()}\n",
    "\n",
    "file_dict"
   ]
  },
  {
   "cell_type": "code",
   "execution_count": 40,
   "metadata": {},
   "outputs": [],
   "source": [
    "household = pd.read_csv(file_dict[\"household\"])\n",
    "individual = pd.read_csv(file_dict[\"individual\"], low_memory=False)\n",
    "hhweights = pd.read_csv(file_dict[\"hhweights\"])\n",
    "\n",
    "fafhnutrient = pd.read_csv(file_dict[\"fafhnutrient\"], encoding=\"latin-1\")\n",
    "fafhitem = pd.read_csv(file_dict[\"fafhitem\"], encoding=\"latin-1\")\n",
    "fafhevent = pd.read_csv(file_dict[\"fafhevent\"], encoding=\"latin-1\")\n",
    "\n",
    "fahnutrients = pd.read_csv(file_dict[\"fahnutrients\"], encoding=\"latin-1\")\n",
    "fahitem = pd.read_csv(file_dict[\"fahitem\"], encoding=\"latin-1\")\n",
    "fahevents = pd.read_csv(file_dict[\"fahevent\"], encoding=\"latin-1\")\n",
    "\n",
    "meals = pd.read_csv(file_dict[\"meals\"], encoding=\"latin-1\")\n",
    "access = pd.read_csv(file_dict[\"access\"], encoding=\"latin-1\")"
   ]
  },
  {
   "cell_type": "code",
   "execution_count": 48,
   "metadata": {},
   "outputs": [
    {
     "data": {
      "text/plain": [
       "4826"
      ]
     },
     "execution_count": 48,
     "metadata": {},
     "output_type": "execute_result"
    }
   ],
   "source": [
    "household.to_sql(\"household\", cnx, if_exists=\"replace\", index=False)"
   ]
  },
  {
   "cell_type": "code",
   "execution_count": 51,
   "metadata": {},
   "outputs": [
    {
     "data": {
      "text/plain": [
       "14317"
      ]
     },
     "execution_count": 51,
     "metadata": {},
     "output_type": "execute_result"
    }
   ],
   "source": [
    "individual.to_sql(\"individual\", cnx, if_exists=\"replace\", index=False)"
   ]
  },
  {
   "cell_type": "code",
   "execution_count": 56,
   "metadata": {},
   "outputs": [
    {
     "data": {
      "text/plain": [
       "4826"
      ]
     },
     "execution_count": 56,
     "metadata": {},
     "output_type": "execute_result"
    }
   ],
   "source": [
    "hhweights.to_sql(\"hhweights\", cnx, if_exists=\"replace\", index=False)"
   ]
  },
  {
   "cell_type": "code",
   "execution_count": 62,
   "metadata": {},
   "outputs": [
    {
     "data": {
      "text/plain": [
       "116074"
      ]
     },
     "execution_count": 62,
     "metadata": {},
     "output_type": "execute_result"
    }
   ],
   "source": [
    "fafhnutrient.to_sql(\"fafhnutrient\", cnx, if_exists=\"replace\", index=False)"
   ]
  },
  {
   "cell_type": "code",
   "execution_count": 66,
   "metadata": {},
   "outputs": [
    {
     "data": {
      "text/plain": [
       "39120"
      ]
     },
     "execution_count": 66,
     "metadata": {},
     "output_type": "execute_result"
    }
   ],
   "source": [
    "fafhevent.date = pd.to_datetime(fafhevent.date)\n",
    "fafhevent.to_sql(\"fafhevent\", cnx, if_exists=\"replace\", index=False)"
   ]
  },
  {
   "cell_type": "code",
   "execution_count": 70,
   "metadata": {},
   "outputs": [
    {
     "data": {
      "text/plain": [
       "116074"
      ]
     },
     "execution_count": 70,
     "metadata": {},
     "output_type": "execute_result"
    }
   ],
   "source": [
    "fafhitem.to_sql(\"fafhitem\", cnx, if_exists=\"replace\", index=False)"
   ]
  },
  {
   "cell_type": "code",
   "execution_count": 73,
   "metadata": {},
   "outputs": [],
   "source": [
    "fahnutrients.to_sql(\"fahnutrients\", cnx, if_exists=\"replace\", index=False)"
   ]
  },
  {
   "cell_type": "code",
   "execution_count": 76,
   "metadata": {},
   "outputs": [
    {
     "data": {
      "text/plain": [
       "15998"
      ]
     },
     "execution_count": 76,
     "metadata": {},
     "output_type": "execute_result"
    }
   ],
   "source": [
    "fahevents.date = pd.to_datetime(fahevents.date)\n",
    "fahevents.to_sql(\"fahevents\", cnx, if_exists=\"replace\", index=False)"
   ]
  },
  {
   "cell_type": "code",
   "execution_count": 77,
   "metadata": {},
   "outputs": [
    {
     "data": {
      "text/plain": [
       "143050"
      ]
     },
     "execution_count": 77,
     "metadata": {},
     "output_type": "execute_result"
    }
   ],
   "source": [
    "fahitem.to_sql(\"fahitem\", cnx, if_exists=\"replace\", index=False)"
   ]
  },
  {
   "cell_type": "code",
   "execution_count": 80,
   "metadata": {},
   "outputs": [
    {
     "data": {
      "text/plain": [
       "12947"
      ]
     },
     "execution_count": 80,
     "metadata": {},
     "output_type": "execute_result"
    }
   ],
   "source": [
    "meals.to_sql(\"meals\", cnx, if_exists=\"replace\", index=False)"
   ]
  },
  {
   "cell_type": "code",
   "execution_count": 83,
   "metadata": {},
   "outputs": [
    {
     "data": {
      "text/plain": [
       "4826"
      ]
     },
     "execution_count": 83,
     "metadata": {},
     "output_type": "execute_result"
    }
   ],
   "source": [
    "access.to_sql(\"access\", cnx, if_exists=\"replace\", index=False)"
   ]
  },
  {
   "cell_type": "code",
   "execution_count": 84,
   "metadata": {},
   "outputs": [],
   "source": [
    "cnx.commit()\n",
    "cnx.close()\n",
    "engine.dispose()"
   ]
  }
 ],
 "metadata": {
  "kernelspec": {
   "display_name": "Python 3.9.13 ('base')",
   "language": "python",
   "name": "python3"
  },
  "language_info": {
   "codemirror_mode": {
    "name": "ipython",
    "version": 3
   },
   "file_extension": ".py",
   "mimetype": "text/x-python",
   "name": "python",
   "nbconvert_exporter": "python",
   "pygments_lexer": "ipython3",
   "version": "3.9.13"
  },
  "orig_nbformat": 4,
  "vscode": {
   "interpreter": {
    "hash": "993f410c9306d6ef42b306fd54ae6229af7745664c20756624d393163e88c3fb"
   }
  }
 },
 "nbformat": 4,
 "nbformat_minor": 2
}
